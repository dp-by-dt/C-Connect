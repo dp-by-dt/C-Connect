{
 "cells": [
  {
   "cell_type": "markdown",
   "id": "501b930d",
   "metadata": {},
   "source": [
    "Testing with hello world app"
   ]
  },
  {
   "cell_type": "code",
   "execution_count": null,
   "id": "50f07352",
   "metadata": {},
   "outputs": [],
   "source": [
    "from flask import Flask \n",
    "\n",
    "app = Flask(__name__)\n",
    "\n",
    "@app.route ('/')\n",
    "def hello_world():\n",
    "    return \"Ehllowww The whole world\""
   ]
  },
  {
   "cell_type": "code",
   "execution_count": null,
   "id": "ce27955b",
   "metadata": {},
   "outputs": [],
   "source": [
    "app.run()"
   ]
  },
  {
   "cell_type": "code",
   "execution_count": null,
   "id": "4b144fdc",
   "metadata": {},
   "outputs": [],
   "source": [
    "from flask_bcrypt import Bcrypt\n",
    "bcrypt = Bcrypt()\n",
    "hashed = bcrypt.generate_password_hash(\"mypassword\").decode('utf-8')\n",
    "print(hashed)\n"
   ]
  }
 ],
 "metadata": {
  "kernelspec": {
   "display_name": "cconnect",
   "language": "python",
   "name": "python3"
  },
  "language_info": {
   "codemirror_mode": {
    "name": "ipython",
    "version": 3
   },
   "file_extension": ".py",
   "mimetype": "text/x-python",
   "name": "python",
   "nbconvert_exporter": "python",
   "pygments_lexer": "ipython3",
   "version": "3.14.0"
  }
 },
 "nbformat": 4,
 "nbformat_minor": 5
}
